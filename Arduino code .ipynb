{
  "cells": [
    {
      "cell_type": "markdown",
      "metadata": {
        "id": "view-in-github",
        "colab_type": "text"
      },
      "source": [
        "<a href=\"https://colab.research.google.com/github/Siddharthag2004/Laser-security-alarm-system-with-counter/blob/main/Arduino%20code%20.ipynb\" target=\"_parent\"><img src=\"https://colab.research.google.com/assets/colab-badge.svg\" alt=\"Open In Colab\"/></a>"
      ]
    },
    {
      "cell_type": "code",
      "source": [
        "#include<LiquidCrystal.h>\n",
        "LiquidCrystal lcd (2,3,4,5,6,7);\n",
        "#define in 8\n",
        "#define out 9\n",
        "#define led 10\n",
        "int count = 0;\n",
        "\n",
        "void setup()\n",
        "{\n",
        "  lcd.begin(16,2);\n",
        "  lcd.print(\"Visitor Counter\");\n",
        "  delay(2000);\n",
        "  pinMode(in, INPUT);\n",
        "  pinMode(out, INPUT);\n",
        "  pinMode(led, OUTPUT);\n",
        "}\n",
        "\n",
        "void loop()\n",
        "{\n",
        "  int in_value = digitalRead(in);\n",
        "  int out_value = digitalRead(out);\n",
        "\n",
        "  if(in_value == LOW)\n",
        "  {\n",
        "    count++;\n",
        "    lcd.clear();\n",
        "    lcd.setCursor(1,0);\n",
        "    lcd.print(\"Persons in Room: \");\n",
        "    lcd.setCursor(0,1);\n",
        "    lcd.print(count);\n",
        "    delay(1000);\n",
        "  }\n",
        "\n",
        "  if(out_value == LOW)\n",
        "  {\n",
        "    count--;\n",
        "    lcd.clear();\n",
        "    lcd.setCursor(1,0);\n",
        "    lcd.print(\"Persons in Room: \");\n",
        "    lcd.setCursor(0,1);\n",
        "    lcd.print(count);\n",
        "    delay(1000);\n",
        "  }\n",
        "\n",
        "  if(count == 0)\n",
        "  {\n",
        "    lcd.clear();\n",
        "    digitalWrite(led, LOW);\n",
        "    lcd.clear();\n",
        "    lcd.print(\"Nobody in Room\");\n",
        "    lcd.setCursor(0,1);\n",
        "    lcd.print(\"Light is OFF\");\n",
        "    delay(200);\n",
        "  }\n",
        "  else\n",
        "  {\n",
        "    digitalWrite(led, HIGH);\n",
        "  }\n",
        "}\n"
      ],
      "metadata": {
        "id": "nK_JyOv6GDC6"
      },
      "execution_count": null,
      "outputs": []
    }
  ],
  "metadata": {
    "colab": {
      "name": "Welcome to Colaboratory",
      "toc_visible": true,
      "provenance": [],
      "include_colab_link": true
    },
    "kernelspec": {
      "display_name": "Python 3",
      "name": "python3"
    }
  },
  "nbformat": 4,
  "nbformat_minor": 0
}